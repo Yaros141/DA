{
 "cells": [
  {
   "cell_type": "markdown",
   "metadata": {},
   "source": [
    "## ПЕРЕВОД ПАРАМЕТРОВ ИЗ TUI ONE В ИМПОРТ\n",
    "\n",
    "TODO:\n",
    "- ПРОДУМАТЬ ДОБАВЛЕНИЕ СПИСКА ОТЕЛЕЙ"
   ]
  },
  {
   "cell_type": "code",
   "execution_count": 312,
   "metadata": {
    "slideshow": {
     "slide_type": "slide"
    }
   },
   "outputs": [],
   "source": [
    "import pandas as pd\n",
    "import numpy as np\n",
    "from openpyxl import load_workbook, Workbook\n",
    "\n",
    "data = pd.read_csv('tui_one_params.csv', delimiter = ';', encoding='windows-1251')\n",
    "\n",
    "#hotels = ['Hotel1', 'Hotel2', 'Hotel3']\n",
    "\n",
    "date = data.DepDate\n",
    "date = pd.to_datetime(date, dayfirst=True)\n",
    "\n",
    "number_of_nights = date.size\n",
    "\n",
    "nights = pd.Series([3,4,5,6,7,8,9,10,11,12,13,14,15,16,17,18,19,20,21])\n",
    "\n",
    "checkin_date = pd.Series(dtype=object)\n",
    "checkin_nights = pd.Series(dtype=int)\n",
    "revision = pd.Series(dtype=float)\n",
    "\n",
    "\n",
    "only_params_df = data.drop(columns={'DepDate'})\n",
    "\n",
    "for i in range(3,22):\n",
    "    checkin_date = checkin_date.append(date)\n",
    "    \n",
    "for i in range(0,number_of_nights):\n",
    "    checkin_nights = checkin_nights.append(nights)\n",
    "    revision = revision.append(only_params_df.loc[i]) \n",
    "  \n",
    "    \n",
    "checkin_date = checkin_date.sort_values()\n",
    "checkin_date.reset_index(inplace=True, drop=True)\n",
    "checkin_nights.reset_index(inplace=True, drop=True)\n",
    "revision.reset_index(inplace=True, drop=True)\n",
    "revision = revision.str.replace(' ', '')\n",
    "revision = revision.astype(float)\n",
    "\n",
    "\n",
    "params = pd.DataFrame({'Date': checkin_date, 'Night': checkin_nights, 'Adult': revision, 'Child': revision, 'DBL': revision}, index=None)\n",
    "params = params.dropna(how='any')\n",
    "\n",
    "# Сохраняем в xlsx\n",
    "writer = pd.ExcelWriter(\"result_params.xlsx\", engine='xlsxwriter', datetime_format='d.m')\n",
    "params.to_excel(writer, sheet_name='Params', index=False)\n",
    "writer.save()\n",
    "\n",
    "# OPENPYXL добавляем текст под форму импорта TUIONE\n",
    "wb = load_workbook(filename = 'result_params.xlsx')\n",
    "ws = wb['Params']\n",
    "ws['H1'] = 'Hotel'\n",
    "ws['I1'] = 'Group Name'\n",
    "ws['H2'] = 'Name'\n",
    "\n",
    "wb.save('result_params.xlsx')"
   ]
  },
  {
   "cell_type": "code",
   "execution_count": null,
   "metadata": {},
   "outputs": [],
   "source": []
  }
 ],
 "metadata": {
  "kernelspec": {
   "display_name": "Python 3",
   "language": "python",
   "name": "python3"
  },
  "language_info": {
   "codemirror_mode": {
    "name": "ipython",
    "version": 3
   },
   "file_extension": ".py",
   "mimetype": "text/x-python",
   "name": "python",
   "nbconvert_exporter": "python",
   "pygments_lexer": "ipython3",
   "version": "3.7.6"
  }
 },
 "nbformat": 4,
 "nbformat_minor": 4
}
