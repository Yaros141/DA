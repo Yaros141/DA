{
 "cells": [
  {
   "cell_type": "code",
   "execution_count": 6,
   "metadata": {},
   "outputs": [],
   "source": [
    "import pandas as pd\n",
    "import os\n",
    "from joblib import Parallel, delayed"
   ]
  },
  {
   "cell_type": "code",
   "execution_count": null,
   "metadata": {},
   "outputs": [],
   "source": [
    "# Converting Excel to Csv\n",
    "%%time\n",
    "\n",
    "os.chdir('C:\\\\Users\\\\yaroslav.nachaev\\\\Desktop\\\\111\\\\csv')\n",
    "\n",
    "for count, file in enumerate(os.listdir()):\n",
    "    temp = pd.read_excel(file)\n",
    "    temp.to_csv('Converted{count}.csv')"
   ]
  },
  {
   "cell_type": "code",
   "execution_count": null,
   "metadata": {},
   "outputs": [],
   "source": [
    "# Reading All Csv -> DF\n",
    "files = os.listdir()\n",
    "\n",
    "def loop(file):\n",
    "    return pd.read_csv(file, low_memory = False)\n",
    "\n",
    "df = Parallel(n_jobs=-1, verbose=10)(delayed(loop)(file) for file in files)\n",
    "df = pd.concat(df, ignore_index=True)\n",
    "\n",
    "# pickle \n",
    "df.to_pickle('all_data.pickle')"
   ]
  }
 ],
 "metadata": {
  "kernelspec": {
   "display_name": "Python 3",
   "language": "python",
   "name": "python3"
  },
  "language_info": {
   "codemirror_mode": {
    "name": "ipython",
    "version": 3
   },
   "file_extension": ".py",
   "mimetype": "text/x-python",
   "name": "python",
   "nbconvert_exporter": "python",
   "pygments_lexer": "ipython3",
   "version": "3.7.6"
  }
 },
 "nbformat": 4,
 "nbformat_minor": 4
}
